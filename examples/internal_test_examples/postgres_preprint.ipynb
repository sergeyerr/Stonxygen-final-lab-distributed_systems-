{
 "cells": [
  {
   "cell_type": "code",
   "execution_count": 142,
   "metadata": {},
   "outputs": [],
   "source": [
    "import psycopg2\n",
    "from psycopg2.extensions import ISOLATION_LEVEL_AUTOCOMMIT\n",
    "import logging\n",
    "import secrets\n",
    "stock_list_loc = 'stocks_list.csv'\n",
    "host = 'localhost'\n",
    "tokens_lifetime_sec = 300"
   ]
  },
  {
   "cell_type": "code",
   "execution_count": 173,
   "metadata": {},
   "outputs": [],
   "source": [
    "def init_db(reinit = False):\n",
    "    con = psycopg2.connect(host =host, user='postgres', password='postgres');\n",
    "    con.set_isolation_level(ISOLATION_LEVEL_AUTOCOMMIT)\n",
    "    cursor = con.cursor();\n",
    "    if reinit:\n",
    "        logging.info('droping db')\n",
    "        cursor.execute(\"DROP DATABASE IF EXISTS stocks;\")\n",
    "    cursor.execute(\"SELECT datname FROM pg_database WHERE datname = %s;\", ('stocks',))\n",
    "    if len(cursor.fetchall()) == 0:\n",
    "        sqlCreateDB = f\"create database stocks;\"\n",
    "        cursor.execute(sqlCreateDB)\n",
    "    cursor.close();\n",
    "    con.close()    \n",
    "    \n",
    "    \n",
    "    con = psycopg2.connect(f\"dbname=stocks user=postgres password='postgres'\");\n",
    "    con.set_isolation_level(ISOLATION_LEVEL_AUTOCOMMIT)\n",
    "    cursor = con.cursor();\n",
    "    logging.info('creating tables')\n",
    "    sqlCreateTableUser = \"CREATE TABLE IF NOT EXISTS users(nick VARCHAR(256) PRIMARY KEY, hash VARCHAR(512) NOT NULL, token VARCHAR(512) NOT NULL, token_date timestamp NOT NULL);\"\n",
    "    sqlCreateTableStock = \"CREATE TABLE IF NOT EXISTS stocks(code VARCHAR(10) PRIMARY KEY);\"\n",
    "    sqlCreateTableUserStock = '''CREATE TABLE IF NOT EXISTS\n",
    "    user_stock (\n",
    "    id serial PRIMARY KEY,\n",
    "    nick VARCHAR (256) NOT NULL,\n",
    "    code VARCHAR (10) NOT NULL,\n",
    "    FOREIGN KEY (nick) REFERENCES users (nick),\n",
    "    FOREIGN KEY (code) REFERENCES stocks (code),\n",
    "    UNIQUE (nick, code)\n",
    "    );\n",
    "    '''\n",
    "    for query in [sqlCreateTableUser, sqlCreateTableStock, sqlCreateTableUserStock]:\n",
    "        cursor.execute(query)\n",
    "    cursor.execute('select COUNT(*) from stocks')\n",
    "    if cursor.fetchone()[0] == 0:\n",
    "        logging.info('inserting stocks')\n",
    "        with open(stock_list_loc, 'r') as f:\n",
    "            for s in f:\n",
    "                cursor.execute(f\"INSERT INTO stocks VALUES ('{s.strip()}')\")\n",
    "    else:\n",
    "        logging.info('stocks already presented')\n",
    "    cursor.close()\n",
    "    con.close()    "
   ]
  },
  {
   "cell_type": "code",
   "execution_count": 174,
   "metadata": {},
   "outputs": [],
   "source": [
    "init_db(True)"
   ]
  },
  {
   "cell_type": "code",
   "execution_count": 162,
   "metadata": {},
   "outputs": [],
   "source": [
    "con = psycopg2.connect(f\"dbname=stocks user=postgres password='postgres'\");\n",
    "con.set_isolation_level(ISOLATION_LEVEL_AUTOCOMMIT)\n",
    "cursor = con.cursor();"
   ]
  },
  {
   "cell_type": "code",
   "execution_count": 163,
   "metadata": {},
   "outputs": [],
   "source": [
    "def get_all_stocks():\n",
    "    cursor.execute('SELECT * from stocks')\n",
    "    for x in cursor.fetchall():\n",
    "        yield x[0]"
   ]
  },
  {
   "cell_type": "code",
   "execution_count": 168,
   "metadata": {},
   "outputs": [],
   "source": [
    "def get_user_stocks(user):\n",
    "    cursor.execute(f\"SELECT code from user_stock WHERE nick = '{user}'\")\n",
    "    for x in cursor.fetchall():\n",
    "        yield x[0]"
   ]
  },
  {
   "cell_type": "code",
   "execution_count": 159,
   "metadata": {},
   "outputs": [],
   "source": [
    "def add_stock_to_user(user, stock):\n",
    "    stock = stock.upper()\n",
    "    cursor.execute(f\"INSERT INTO user_stock(nick, code) VALUES ('{user}','{stock}')\")"
   ]
  },
  {
   "cell_type": "code",
   "execution_count": 113,
   "metadata": {},
   "outputs": [],
   "source": [
    "def remove_stock_from_user(user, stock):\n",
    "    stock = stock.upper()\n",
    "    cursor.execute(f\"DELETE FROM user_stock WHERE nick='{user} AND code='{stock}'\")"
   ]
  },
  {
   "cell_type": "code",
   "execution_count": 125,
   "metadata": {},
   "outputs": [],
   "source": [
    "def register_user(user, passwd):\n",
    "    cursor.execute(f\"SELECT COUNT(*) FROM users WHERE nick='{user}'\")\n",
    "    if cursor.fetchone()[0] != 0:\n",
    "        print('alarm')\n",
    "        return\n",
    "    passwd = hash(passwd)\n",
    "    token = secrets.token_hex(64)\n",
    "    cursor.execute(f\"INSERT INTO users VALUES ('{user}', '{passwd}', '{token}', Now())\")\n",
    "    logging.info(f'registered {user}')\n",
    "    return token"
   ]
  },
  {
   "cell_type": "code",
   "execution_count": 143,
   "metadata": {},
   "outputs": [],
   "source": [
    "#alarm\n",
    "def check_token(token):\n",
    "    cursor.execute(f\"SELECT now() - token_date FROM users WHERE token='{token}'\")\n",
    "    res = cursor.fetchall()\n",
    "    if len(res) == 0:\n",
    "        return 'nope'\n",
    "    res = res[0]\n",
    "    left_time = res[0]\n",
    "    if left_time.seconds < tokens_lifetime_sec:\n",
    "        return 'ok'\n",
    "    return 'nope'"
   ]
  },
  {
   "cell_type": "code",
   "execution_count": 134,
   "metadata": {},
   "outputs": [],
   "source": [
    "def get_token(user, passwd):\n",
    "    passwd = hash(passwd)\n",
    "    cursor.execute(f\"SELECT COUNT(*) FROM users WHERE nick='{user}' and hash='{passwd}'\")\n",
    "    if cursor.fetchone()[0] == 0:\n",
    "        return 'nope'\n",
    "    token = secrets.token_hex(64)\n",
    "    cursor.execute(f'''UPDATE users\n",
    "    SET token = '{token}',\n",
    "    token_date = now()\n",
    "    WHERE nick = '{user}'\n",
    "    ''')\n",
    "    return token"
   ]
  },
  {
   "cell_type": "code",
   "execution_count": 146,
   "metadata": {},
   "outputs": [
    {
     "data": {
      "text/plain": [
       "'ok'"
      ]
     },
     "execution_count": 146,
     "metadata": {},
     "output_type": "execute_result"
    }
   ],
   "source": [
    "check_token('15e0b6bb9a0de9aae43eef92ac95249b17ed62c98a02ac023fd347a34dcd0eba1fc9a576def9a6254e44ff000f55c7ace581b35ccaed77b5d68863c0685f8420')"
   ]
  },
  {
   "cell_type": "code",
   "execution_count": 137,
   "metadata": {},
   "outputs": [
    {
     "data": {
      "text/plain": [
       "'15e0b6bb9a0de9aae43eef92ac95249b17ed62c98a02ac023fd347a34dcd0eba1fc9a576def9a6254e44ff000f55c7ace581b35ccaed77b5d68863c0685f8420'"
      ]
     },
     "execution_count": 137,
     "metadata": {},
     "output_type": "execute_result"
    }
   ],
   "source": [
    "get_token('sergeyer', '123')"
   ]
  },
  {
   "cell_type": "code",
   "execution_count": 127,
   "metadata": {
    "scrolled": true
   },
   "outputs": [
    {
     "name": "stdout",
     "output_type": "stream",
     "text": [
      "registered\n"
     ]
    },
    {
     "data": {
      "text/plain": [
       "'2b6631ea9a30838dbc91a730dca6360f4ce3110b7fd3bcbf417e9a7406c3b5688c10664650593b56ee9b78a34a99c44facd08a5cd92d6f394bbf594a109e5d19'"
      ]
     },
     "execution_count": 127,
     "metadata": {},
     "output_type": "execute_result"
    }
   ],
   "source": [
    "register_user('sergeyer', '123')"
   ]
  },
  {
   "cell_type": "code",
   "execution_count": 169,
   "metadata": {},
   "outputs": [],
   "source": [
    "add_stock_to_user('sergeyer', 'FB')"
   ]
  },
  {
   "cell_type": "code",
   "execution_count": 170,
   "metadata": {},
   "outputs": [
    {
     "name": "stdout",
     "output_type": "stream",
     "text": [
      "PFE\n",
      "FB\n"
     ]
    }
   ],
   "source": [
    "for x in get_user_stocks('sergeyer'):\n",
    "    # обработать ошибки, пересоздавать подключение\n",
    "    print(x)"
   ]
  },
  {
   "cell_type": "code",
   "execution_count": 104,
   "metadata": {},
   "outputs": [
    {
     "name": "stdout",
     "output_type": "stream",
     "text": [
      "BDN\n",
      "ROK\n",
      "ZM\n",
      "CRM\n",
      "AGCO\n",
      "TSLA\n",
      "MRNA\n",
      "AAPL\n",
      "FB\n",
      "GOOGL\n",
      "PFE\n",
      "GM\n",
      "GE\n",
      "F\n"
     ]
    }
   ],
   "source": [
    "for i in get_all_stocks():\n",
    "    print(i)"
   ]
  },
  {
   "cell_type": "code",
   "execution_count": 171,
   "metadata": {},
   "outputs": [],
   "source": [
    "cursor.close()\n",
    "con.close()"
   ]
  },
  {
   "cell_type": "code",
   "execution_count": 167,
   "metadata": {},
   "outputs": [
    {
     "name": "stdout",
     "output_type": "stream",
     "text": [
      "('PFE',)\n"
     ]
    }
   ],
   "source": [
    "cursor.execute(f\"SELECT code from user_stock WHERE nick = 'sergeyer'\")\n",
    "for x in cursor.fetchall():\n",
    "    print(x)"
   ]
  },
  {
   "cell_type": "code",
   "execution_count": null,
   "metadata": {},
   "outputs": [],
   "source": []
  }
 ],
 "metadata": {
  "kernelspec": {
   "display_name": "Python 3",
   "language": "python",
   "name": "python3"
  },
  "language_info": {
   "codemirror_mode": {
    "name": "ipython",
    "version": 3
   },
   "file_extension": ".py",
   "mimetype": "text/x-python",
   "name": "python",
   "nbconvert_exporter": "python",
   "pygments_lexer": "ipython3",
   "version": "3.7.9"
  }
 },
 "nbformat": 4,
 "nbformat_minor": 4
}
