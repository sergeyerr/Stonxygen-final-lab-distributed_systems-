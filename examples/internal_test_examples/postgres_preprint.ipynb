{
 "cells": [
  {
   "cell_type": "code",
   "execution_count": 42,
   "metadata": {},
   "outputs": [],
   "source": [
    "import psycopg2\n",
    "from psycopg2.extensions import ISOLATION_LEVEL_AUTOCOMMIT"
   ]
  },
  {
   "cell_type": "code",
   "execution_count": 45,
   "metadata": {},
   "outputs": [],
   "source": [
    "def init_db(reinit = False):\n",
    "    con = psycopg2.connect(\"user=postgres password='postgres'\");\n",
    "    con.set_isolation_level(ISOLATION_LEVEL_AUTOCOMMIT)\n",
    "    cursor = con.cursor();\n",
    "    if reinit:\n",
    "        cursor.execute(\"DROP DATABASE IF EXISTS stocks;\")\n",
    "    cursor.execute(\"SELECT datname FROM pg_database WHERE datname = %s;\", ('stocks',))\n",
    "    if len(cursor.fetchall()) == 0:\n",
    "        sqlCreateDB = f\"create database stocks;\"\n",
    "        cursor.execute(sqlCreateDB)\n",
    "    cursor.close();\n",
    "    con.close()    \n",
    "    \n",
    "    \n",
    "    con = psycopg2.connect(f\"dbname=stocks user=postgres password='postgres'\");\n",
    "    con.set_isolation_level(ISOLATION_LEVEL_AUTOCOMMIT)\n",
    "    cursor = con.cursor();\n",
    "    \n",
    "    sqlCreateTableUser = \"CREATE TABLE IF NOT EXISTS users(nick VARCHAR(256) PRIMARY KEY, hash VARCHAR(512) NOT NULL, token VARCHAR(512) NOT NULL, left_seconds INT NOT NULL);\"\n",
    "    sqlCreateTableStock = \"CREATE TABLE IF NOT EXISTS stocks(code VARCHAR(10) PRIMARY KEY, name VARCHAR(512) UNIQUE NOT NULL);\"\n",
    "    sqlCreateTableUserStock = '''CREATE TABLE IF NOT EXISTS\n",
    "    user_stock (\n",
    "    id serial PRIMARY KEY,\n",
    "    nick VARCHAR (256) NOT NULL,\n",
    "    code VARCHAR (10) NOT NULL,\n",
    "    FOREIGN KEY (nick) REFERENCES users (nick),\n",
    "    FOREIGN KEY (code) REFERENCES stocks (code)\n",
    "    );\n",
    "    '''\n",
    "    for query in [sqlCreateTableUser, sqlCreateTableStock, sqlCreateTableUserStock]:\n",
    "        cursor.execute(query)\n",
    "    cursor.close()\n",
    "    con.close()    "
   ]
  },
  {
   "cell_type": "code",
   "execution_count": 46,
   "metadata": {},
   "outputs": [
    {
     "ename": "ObjectInUse",
     "evalue": "database \"stocks\" is being accessed by other users\nDETAIL:  There is 1 other session using the database.\n",
     "output_type": "error",
     "traceback": [
      "\u001b[1;31m---------------------------------------------------------------------------\u001b[0m",
      "\u001b[1;31mObjectInUse\u001b[0m                               Traceback (most recent call last)",
      "\u001b[1;32m<ipython-input-46-8048df28e1fa>\u001b[0m in \u001b[0;36m<module>\u001b[1;34m\u001b[0m\n\u001b[1;32m----> 1\u001b[1;33m \u001b[0minit_db\u001b[0m\u001b[1;33m(\u001b[0m\u001b[1;32mTrue\u001b[0m\u001b[1;33m)\u001b[0m\u001b[1;33m\u001b[0m\u001b[1;33m\u001b[0m\u001b[0m\n\u001b[0m",
      "\u001b[1;32m<ipython-input-45-07f74fbf9be9>\u001b[0m in \u001b[0;36minit_db\u001b[1;34m(reinit)\u001b[0m\n\u001b[0;32m      4\u001b[0m     \u001b[0mcursor\u001b[0m \u001b[1;33m=\u001b[0m \u001b[0mcon\u001b[0m\u001b[1;33m.\u001b[0m\u001b[0mcursor\u001b[0m\u001b[1;33m(\u001b[0m\u001b[1;33m)\u001b[0m\u001b[1;33m;\u001b[0m\u001b[1;33m\u001b[0m\u001b[1;33m\u001b[0m\u001b[0m\n\u001b[0;32m      5\u001b[0m     \u001b[1;32mif\u001b[0m \u001b[0mreinit\u001b[0m\u001b[1;33m:\u001b[0m\u001b[1;33m\u001b[0m\u001b[1;33m\u001b[0m\u001b[0m\n\u001b[1;32m----> 6\u001b[1;33m         \u001b[0mcursor\u001b[0m\u001b[1;33m.\u001b[0m\u001b[0mexecute\u001b[0m\u001b[1;33m(\u001b[0m\u001b[1;34m\"DROP DATABASE IF EXISTS stocks;\"\u001b[0m\u001b[1;33m)\u001b[0m\u001b[1;33m\u001b[0m\u001b[1;33m\u001b[0m\u001b[0m\n\u001b[0m\u001b[0;32m      7\u001b[0m     \u001b[0mcursor\u001b[0m\u001b[1;33m.\u001b[0m\u001b[0mexecute\u001b[0m\u001b[1;33m(\u001b[0m\u001b[1;34m\"SELECT datname FROM pg_database WHERE datname = %s;\"\u001b[0m\u001b[1;33m,\u001b[0m \u001b[1;33m(\u001b[0m\u001b[1;34m'stocks'\u001b[0m\u001b[1;33m,\u001b[0m\u001b[1;33m)\u001b[0m\u001b[1;33m)\u001b[0m\u001b[1;33m\u001b[0m\u001b[1;33m\u001b[0m\u001b[0m\n\u001b[0;32m      8\u001b[0m     \u001b[1;32mif\u001b[0m \u001b[0mlen\u001b[0m\u001b[1;33m(\u001b[0m\u001b[0mcursor\u001b[0m\u001b[1;33m.\u001b[0m\u001b[0mfetchall\u001b[0m\u001b[1;33m(\u001b[0m\u001b[1;33m)\u001b[0m\u001b[1;33m)\u001b[0m \u001b[1;33m==\u001b[0m \u001b[1;36m0\u001b[0m\u001b[1;33m:\u001b[0m\u001b[1;33m\u001b[0m\u001b[1;33m\u001b[0m\u001b[0m\n",
      "\u001b[1;31mObjectInUse\u001b[0m: database \"stocks\" is being accessed by other users\nDETAIL:  There is 1 other session using the database.\n"
     ]
    }
   ],
   "source": [
    "init_db(True)"
   ]
  },
  {
   "cell_type": "code",
   "execution_count": 23,
   "metadata": {},
   "outputs": [],
   "source": [
    "cursor.execute(\"SELECT datname FROM pg_database WHERE datname = %s;\", ('stocks',))"
   ]
  },
  {
   "cell_type": "code",
   "execution_count": 24,
   "metadata": {},
   "outputs": [
    {
     "data": {
      "text/plain": [
       "[]"
      ]
     },
     "execution_count": 24,
     "metadata": {},
     "output_type": "execute_result"
    }
   ],
   "source": [
    "if len(cursor.fetchall()) == 0:\n",
    "    sqlCreateDB = f\"create database stocks;\""
   ]
  },
  {
   "cell_type": "code",
   "execution_count": 25,
   "metadata": {},
   "outputs": [],
   "source": [
    "con.close()"
   ]
  },
  {
   "cell_type": "code",
   "execution_count": null,
   "metadata": {},
   "outputs": [],
   "source": []
  }
 ],
 "metadata": {
  "kernelspec": {
   "display_name": "Python 3",
   "language": "python",
   "name": "python3"
  },
  "language_info": {
   "codemirror_mode": {
    "name": "ipython",
    "version": 3
   },
   "file_extension": ".py",
   "mimetype": "text/x-python",
   "name": "python",
   "nbconvert_exporter": "python",
   "pygments_lexer": "ipython3",
   "version": "3.7.9"
  }
 },
 "nbformat": 4,
 "nbformat_minor": 4
}
